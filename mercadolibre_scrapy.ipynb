{
 "cells": [
  {
   "cell_type": "code",
   "execution_count": 10,
   "metadata": {},
   "outputs": [],
   "source": [
    "#pip install scrapy"
   ]
  },
  {
   "cell_type": "code",
   "execution_count": 70,
   "metadata": {},
   "outputs": [],
   "source": [
    "from scrapy.item import Item\n",
    "from scrapy.item import Field\n",
    "from scrapy.spiders import CrawlSpider, Rule\n",
    "from scrapy.linkextractors import LinkExtractor\n",
    "from scrapy.loader import ItemLoader\n",
    "from scrapy.selector import Selector\n",
    "from scrapy.loader.processors import MapCompose, Compose"
   ]
  },
  {
   "cell_type": "code",
   "execution_count": 71,
   "metadata": {},
   "outputs": [],
   "source": [
    "class Articulo(Item):\n",
    "    codigo= Field()\n",
    "    category = Field()\n",
    "    city = Field()\n",
    "    quarter = Field()\n",
    "    price = Field()\n",
    "    area2 = Field()\n",
    "    rooms = Field()\n",
    "    baths = Field()\n",
    "    othert = Field()\n",
    "    otherv = Field()\n",
    "    "
   ]
  },
  {
   "cell_type": "code",
   "execution_count": 81,
   "metadata": {},
   "outputs": [],
   "source": [
    "class MercadoCrawler(CrawlSpider):\n",
    "    name = \"mecadolibre_scrapy\"\n",
    "    custom_settings={\n",
    "        'USER_AGENT' : 'Mozilla/5.0 (Windows NT 10.0; Win64; x64) AppleWebKit/537.36 (KHTML, like Gecko) Chrome/98.0.4758.82 Safari/537.36',\n",
    "        #'CLOSESPIDER_PAGECOUNT' : 100,\n",
    "        'FEED_EXPORT_ENCODING' : \"utf-8\"\n",
    "    }\n",
    "    download_delay= 1\n",
    "    start_urls = [\"https://listado.mercadolibre.com.co/inmuebles/arriendo/caldas/\"]\n",
    "    allowed_domains= [\"listado.mercadolibre.com.co\", \"inmueble.mercadolibre.com.co\",\n",
    "                      \"apartamento.mercadolibre.com.co\",\"casa.mercadolibre.com.co\"]\n",
    "    \n",
    "    rules = (\n",
    "        #Productos\n",
    "        Rule(\n",
    "            LinkExtractor(\n",
    "                allow=r'/_Desde_'\n",
    "            ), follow=True\n",
    "        ),\n",
    "        #Detalle\n",
    "        Rule(\n",
    "            LinkExtractor(\n",
    "                allow=r'/MCO-'\n",
    "            ), follow=True, callback='parse_items'\n",
    "        ),\n",
    "    )\n",
    "    def limpiarCodigo(self, texto):\n",
    "        nuevoTexto = texto.replace(\"#\", \"\")\n",
    "        return nuevoTexto\n",
    "    def limpiarCategory(self, texto):\n",
    "        nuevoTexto = texto.replace(' en Arriendo', \"\")\n",
    "        return nuevoTexto\n",
    "    def limpiarPrecio(self, texto):\n",
    "        nuevoTexto = texto.replace(' pesos', \"\").replace('ñ', \"n\").strip()\n",
    "        return nuevoTexto\n",
    "    def limpiarCiudad(self, texto):\n",
    "        nuevoTexto = texto.split(\",\")\n",
    "        return nuevoTexto\n",
    "    def limpiarBarrio(self, texto):\n",
    "        nuevoTexto = texto.split(\",\")\n",
    "        return nuevoTexto\n",
    "    def limpiarArea(self, texto):\n",
    "        nuevoTexto= texto.replace(\" m² totales\", \"\")\n",
    "        return nuevoTexto\n",
    "    def limpiarHabitaciones(self, texto):\n",
    "        nuevoTexto=texto.replace(\" habitaciones\", \"\").replace(\" habitación\", \"\")\n",
    "        return nuevoTexto\n",
    "    def limpiarBanos(self, texto):\n",
    "        nuevoTexto=texto.replace(\" baños\", \"\").replace(\" baño\", \"\")\n",
    "        return nuevoTexto\n",
    "    def limpiarOther(self, texto):\n",
    "        nuevoTexto=texto.replace(\" años\", \"\")\n",
    "        return nuevoTexto\n",
    " \n",
    "    def parse_items(self, response):\n",
    "        item = ItemLoader(Articulo(),response)\n",
    "        item.add_xpath('codigo', '//span[@class=\"ui-pdp-color--BLACK ui-pdp-family--SEMIBOLD\"]/text()', MapCompose(self.limpiarCodigo))\n",
    "        item.add_xpath('category', '//span[@class=\"ui-pdp-subtitle\"]/text()', MapCompose(self.limpiarCategory))\n",
    "        item.add_xpath('price', '//span[@class=\"andes-visually-hidden\"]/text()', MapCompose(self.limpiarPrecio))\n",
    "        item.add_xpath('city', '//p[@class=\"ui-pdp-color--BLACK ui-pdp-size--SMALL ui-pdp-family--REGULAR ui-pdp-media__title\"]/text()', MapCompose(self.limpiarCiudad), Compose(lambda v: v[-2]))\n",
    "        item.add_xpath('quarter', '//p[@class=\"ui-pdp-color--BLACK ui-pdp-size--SMALL ui-pdp-family--REGULAR ui-pdp-media__title\"]/text()', MapCompose(self.limpiarBarrio), Compose(lambda v: v[-3]))\n",
    "        item.add_xpath('area2', '//span[@class=\"ui-pdp-color--BLACK ui-pdp-size--SMALL ui-pdp-family--REGULAR ui-pdp-label\"]/text()', MapCompose(self.limpiarArea), Compose(lambda v: v[0]))\n",
    "        item.add_xpath('rooms', '//span[@class=\"ui-pdp-color--BLACK ui-pdp-size--SMALL ui-pdp-family--REGULAR ui-pdp-label\"]/text()', MapCompose(self.limpiarHabitaciones), Compose(lambda v: v[1]))\n",
    "        item.add_xpath('baths', '//span[@class=\"ui-pdp-color--BLACK ui-pdp-size--SMALL ui-pdp-family--REGULAR ui-pdp-label\"]/text()', MapCompose(self.limpiarBanos), Compose(lambda v: v[2]))\n",
    "        item.add_xpath('othert', '//th/text()', Compose(lambda v: v[4:]))\n",
    "        item.add_xpath('otherv', '//span[@class=\"andes-table__column--value\"]/text()', Compose(lambda v: v[4:]), MapCompose(self.limpiarOther))\n",
    "        yield item.load_item()"
   ]
  },
  {
   "cell_type": "code",
   "execution_count": 34,
   "metadata": {},
   "outputs": [],
   "source": [
    "#Exportar a .py y ejecutar scrapy runspider mercadolibre_scrapy.py -o mercadolibre.csv -t csv en terminal"
   ]
  }
 ],
 "metadata": {
  "kernelspec": {
   "display_name": "Python 3",
   "language": "python",
   "name": "python3"
  },
  "language_info": {
   "codemirror_mode": {
    "name": "ipython",
    "version": 3
   },
   "file_extension": ".py",
   "mimetype": "text/x-python",
   "name": "python",
   "nbconvert_exporter": "python",
   "pygments_lexer": "ipython3",
   "version": "3.8.3"
  }
 },
 "nbformat": 4,
 "nbformat_minor": 4
}
